{
 "cells": [
  {
   "cell_type": "code",
   "execution_count": 1,
   "metadata": {
    "collapsed": true
   },
   "outputs": [],
   "source": [
    "import pandas as pd\n",
    "from shapely.geometry import Point, shape\n",
    "\n",
    "from flask import Flask\n",
    "from flask import render_template\n",
    "import json\n",
    "\n"
   ]
  },
  {
   "cell_type": "code",
   "execution_count": 2,
   "metadata": {
    "collapsed": true
   },
   "outputs": [],
   "source": [
    "data_path = './input/'\n",
    "n_samples = 30000"
   ]
  },
  {
   "cell_type": "code",
   "execution_count": 3,
   "metadata": {
    "collapsed": true
   },
   "outputs": [],
   "source": [
    "dt = pd.read_csv(data_path + 'sample_runs_11102016.csv')"
   ]
  },
  {
   "cell_type": "code",
   "execution_count": 4,
   "metadata": {
    "collapsed": false
   },
   "outputs": [
    {
     "name": "stdout",
     "output_type": "stream",
     "text": [
      "2016-10-19\n"
     ]
    }
   ],
   "source": [
    "import datetime\n",
    "print datetime.date.today()\n",
    "\n",
    "\n",
    "dt[\"date_of_run\"]=dt[\"start_time\"].apply(lambda date: date.split(' ')[0])\n",
    "dt[\"time_of_run\"]=dt[\"start_time\"].apply(lambda date: date.split(' ')[1].split('-')[0])\n",
    "# df['State'] = df.area.apply(lambda x: x.split(',')[1] if len(x.split(','))>1 else '')\n",
    "\n",
    "# dt[\"time_of_run\"]=df['phone_brand'].apply(lambda phone_brand: top_10_brands_en[phone_brand] \n",
    "#                                                     if (phone_brand in top_10_brands_en) else 'Other')"
   ]
  },
  {
   "cell_type": "code",
   "execution_count": 26,
   "metadata": {
    "collapsed": false
   },
   "outputs": [],
   "source": [
    "dt[\"timestamp\"] = dt[\"date_of_run\"]+' '+dt[\"time_of_run\"]"
   ]
  },
  {
   "cell_type": "code",
   "execution_count": 32,
   "metadata": {
    "collapsed": false
   },
   "outputs": [],
   "source": [
    "data_path = './input/'\n",
    "gen_age_tr = pd.read_csv(data_path + 'gender_age_train.csv')\n",
    "\n",
    "dt = pd.read_csv(data_path + 'sample_runs_11102016.csv')\n",
    "dt[\"date_of_run\"]=dt[\"start_time\"].apply(lambda date: date.split(' ')[0])\n",
    "dt[\"time_of_run\"]=dt[\"start_time\"].apply(lambda date: date.split(' ')[1].split('-')[0])\n",
    "dt[\"timestamp\"] = dt[\"date_of_run\"]+' '+dt[\"time_of_run\"]\n",
    "\n",
    "ev = pd.read_csv(data_path + 'events.csv')\n",
    "ph_br_dev_model = pd.read_csv(data_path + 'phone_brand_device_model.csv')\n",
    "\n",
    "df = gen_age_tr.merge(ev, how='left', on='device_id')\n",
    "df = df.merge(ph_br_dev_model, how='left', on='device_id')\n",
    "\n",
    "    #Get n_samples records"
   ]
  },
  {
   "cell_type": "code",
   "execution_count": 33,
   "metadata": {
    "collapsed": false
   },
   "outputs": [
    {
     "data": {
      "text/html": [
       "<div>\n",
       "<table border=\"1\" class=\"dataframe\">\n",
       "  <thead>\n",
       "    <tr style=\"text-align: right;\">\n",
       "      <th></th>\n",
       "      <th>device_id</th>\n",
       "      <th>gender</th>\n",
       "      <th>age</th>\n",
       "      <th>group</th>\n",
       "      <th>event_id</th>\n",
       "      <th>timestamp</th>\n",
       "      <th>longitude</th>\n",
       "      <th>latitude</th>\n",
       "      <th>phone_brand</th>\n",
       "      <th>device_model</th>\n",
       "    </tr>\n",
       "  </thead>\n",
       "  <tbody>\n",
       "    <tr>\n",
       "      <th>0</th>\n",
       "      <td>-8076087639492063270</td>\n",
       "      <td>M</td>\n",
       "      <td>35</td>\n",
       "      <td>M32-38</td>\n",
       "      <td>NaN</td>\n",
       "      <td>NaN</td>\n",
       "      <td>NaN</td>\n",
       "      <td>NaN</td>\n",
       "      <td>小米</td>\n",
       "      <td>MI 2</td>\n",
       "    </tr>\n",
       "    <tr>\n",
       "      <th>1</th>\n",
       "      <td>-2897161552818060146</td>\n",
       "      <td>M</td>\n",
       "      <td>35</td>\n",
       "      <td>M32-38</td>\n",
       "      <td>NaN</td>\n",
       "      <td>NaN</td>\n",
       "      <td>NaN</td>\n",
       "      <td>NaN</td>\n",
       "      <td>小米</td>\n",
       "      <td>MI 2</td>\n",
       "    </tr>\n",
       "    <tr>\n",
       "      <th>2</th>\n",
       "      <td>-8260683887967679142</td>\n",
       "      <td>M</td>\n",
       "      <td>35</td>\n",
       "      <td>M32-38</td>\n",
       "      <td>2479656.0</td>\n",
       "      <td>2016-05-01 14:23:37</td>\n",
       "      <td>0.0</td>\n",
       "      <td>0.0</td>\n",
       "      <td>小米</td>\n",
       "      <td>MI 2</td>\n",
       "    </tr>\n",
       "    <tr>\n",
       "      <th>3</th>\n",
       "      <td>-4938849341048082022</td>\n",
       "      <td>M</td>\n",
       "      <td>30</td>\n",
       "      <td>M29-31</td>\n",
       "      <td>NaN</td>\n",
       "      <td>NaN</td>\n",
       "      <td>NaN</td>\n",
       "      <td>NaN</td>\n",
       "      <td>小米</td>\n",
       "      <td>红米note</td>\n",
       "    </tr>\n",
       "    <tr>\n",
       "      <th>4</th>\n",
       "      <td>245133531816851882</td>\n",
       "      <td>M</td>\n",
       "      <td>30</td>\n",
       "      <td>M29-31</td>\n",
       "      <td>NaN</td>\n",
       "      <td>NaN</td>\n",
       "      <td>NaN</td>\n",
       "      <td>NaN</td>\n",
       "      <td>小米</td>\n",
       "      <td>MI 3</td>\n",
       "    </tr>\n",
       "  </tbody>\n",
       "</table>\n",
       "</div>"
      ],
      "text/plain": [
       "             device_id gender  age   group   event_id            timestamp  \\\n",
       "0 -8076087639492063270      M   35  M32-38        NaN                  NaN   \n",
       "1 -2897161552818060146      M   35  M32-38        NaN                  NaN   \n",
       "2 -8260683887967679142      M   35  M32-38  2479656.0  2016-05-01 14:23:37   \n",
       "3 -4938849341048082022      M   30  M29-31        NaN                  NaN   \n",
       "4   245133531816851882      M   30  M29-31        NaN                  NaN   \n",
       "\n",
       "   longitude  latitude phone_brand device_model  \n",
       "0        NaN       NaN          小米         MI 2  \n",
       "1        NaN       NaN          小米         MI 2  \n",
       "2        0.0       0.0          小米         MI 2  \n",
       "3        NaN       NaN          小米       红米note  \n",
       "4        NaN       NaN          小米         MI 3  "
      ]
     },
     "execution_count": 33,
     "metadata": {},
     "output_type": "execute_result"
    }
   ],
   "source": [
    "#df = df.merge(dt, how='left', on='timestamp')\n",
    "df.head()"
   ]
  },
  {
   "cell_type": "code",
   "execution_count": null,
   "metadata": {
    "collapsed": true
   },
   "outputs": [],
   "source": []
  },
  {
   "cell_type": "code",
   "execution_count": 11,
   "metadata": {
    "collapsed": false
   },
   "outputs": [],
   "source": [
    "dt_clean = dt[\"date_of_run\"]\n",
    "\n",
    "dt_clean.to_json(orient='records')\n",
    "[\"2\",\"2\",\"1\",\"0\",\"3\",\"3\",\"3\",\"3\"]\n",
    "cols_to_keeps = ['date_of_run', 'time_of_run']\n",
    "dt_clean = dt[cols_to_keeps].dropna()\n",
    "records = dt_clean.to_json(orient='records')"
   ]
  },
  {
   "cell_type": "code",
   "execution_count": null,
   "metadata": {
    "collapsed": true
   },
   "outputs": [],
   "source": []
  },
  {
   "cell_type": "code",
   "execution_count": 17,
   "metadata": {
    "collapsed": false
   },
   "outputs": [],
   "source": [
    "def get_age_segment(age):\n",
    "    if age <= 22:\n",
    "        return '22-'\n",
    "    elif age <= 26:\n",
    "        return '23-26'\n",
    "    elif age <= 28:\n",
    "        return '27-28'\n",
    "    elif age <= 32:\n",
    "        return '29-32'\n",
    "    elif age <= 38:\n",
    "        return '33-38'\n",
    "    else:\n",
    "        return '39+'\n",
    "\n",
    "def get_location(longitude, latitude, provinces_json):\n",
    "    \n",
    "    point = Point(longitude, latitude)\n",
    "\n",
    "    for record in provinces_json['features']:\n",
    "        polygon = shape(record['geometry'])\n",
    "        if polygon.contains(point):\n",
    "            return record['properties']['name']\n",
    "    return 'other'\n",
    "\n",
    "data_path = './input/'\n",
    "with open(data_path + '/geojson/china_provinces_en.json') as data_file:    \n",
    "    provinces_json = json.load(data_file)\n",
    "    \n",
    "data_path = './input/dataaa/'\n",
    "gen_age_tr = pd.read_csv(data_path + 'gender_age_train.csv')\n",
    "ev = pd.read_csv(data_path + 'events.csv')\n",
    "ph_br_dev_model = pd.read_csv(data_path + 'phone_brand_device_model.csv')\n",
    "\n",
    "df = gen_age_tr.merge(ev, how='left', on='device_id')\n",
    "df = df.merge(ph_br_dev_model, how='left', on='device_id')\n",
    "    #Get n_samples records\n",
    "df = df[df['longitude'] != 0].sample(n=n_samples)\n",
    "\n",
    "\n",
    "top_10_brands_en = {'华为':'Huawei', '小米':'Xiaomi', '三星':'Samsung', 'vivo':'vivo', 'OPPO':'OPPO',\n",
    "                        '魅族':'Meizu', '酷派':'Coolpad', '乐视':'LeEco', '联想':'Lenovo', 'HTC':'HTC'}\n",
    "\n",
    "df['phone_brand_en'] = df['phone_brand'].apply(lambda phone_brand: top_10_brands_en[phone_brand] \n",
    "                                                    if (phone_brand in top_10_brands_en) else 'Other')\n",
    "\n",
    "df['age_segment'] = df['age'].apply(lambda age: get_age_segment(age))\n",
    "\n",
    "df['location'] = df.apply(lambda row: get_location(row['longitude'], row['latitude'], provinces_json), axis=1)\n",
    "\n",
    "cols_to_keep = ['timestamp', 'longitude', 'latitude', 'phone_brand_en', 'gender', 'age_segment', 'location']\n",
    "df_clean = df[cols_to_keep].dropna()\n"
   ]
  },
  {
   "cell_type": "code",
   "execution_count": 18,
   "metadata": {
    "collapsed": true
   },
   "outputs": [],
   "source": [
    "re = df_clean.to_json(orient='records')"
   ]
  },
  {
   "cell_type": "code",
   "execution_count": 22,
   "metadata": {
    "collapsed": false
   },
   "outputs": [],
   "source": [
    "# '[{\"timestamp\":\"2016-05-06 15:40:12\",\"longitude\":124.02,\"latitude\":45.0,\"phone_brand_en\":\"OPPO\",\"gender\":\"F\",\"age_segment\":\"22-\",\"location\":\"Jilin\"},{\"timestamp\":\"2016-05-05 21:47:04\",\"longitude\":115.26,\"latitude\":33.05,\"phone_brand_en\":\"vivo\",\"gender\":\"M\",\"age_segment\":\"27-28\",\"location\":\"Anhui\"},\n",
    "# '[{\"date_of_run\":\"2016-07-29\",\"time_of_run\":\"07:01:37\"},{\"date_of_run\":\"2016-07-31\",\"time_of_run\":\"07:56:05\"}\n",
    "#records"
   ]
  },
  {
   "cell_type": "code",
   "execution_count": null,
   "metadata": {
    "collapsed": false
   },
   "outputs": [],
   "source": []
  },
  {
   "cell_type": "code",
   "execution_count": null,
   "metadata": {
    "collapsed": true
   },
   "outputs": [],
   "source": []
  }
 ],
 "metadata": {
  "kernelspec": {
   "display_name": "Python 2",
   "language": "python",
   "name": "python2"
  },
  "language_info": {
   "codemirror_mode": {
    "name": "ipython",
    "version": 2
   },
   "file_extension": ".py",
   "mimetype": "text/x-python",
   "name": "python",
   "nbconvert_exporter": "python",
   "pygments_lexer": "ipython2",
   "version": "2.7.6"
  }
 },
 "nbformat": 4,
 "nbformat_minor": 0
}

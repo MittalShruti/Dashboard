{
 "cells": [
  {
   "cell_type": "code",
   "execution_count": 1,
   "metadata": {
    "collapsed": true
   },
   "outputs": [],
   "source": [
    "import pandas as pd\n",
    "from shapely.geometry import Point, shape\n",
    "\n",
    "from flask import Flask\n",
    "from flask import render_template\n",
    "import json\n",
    "\n"
   ]
  },
  {
   "cell_type": "code",
   "execution_count": 2,
   "metadata": {
    "collapsed": true
   },
   "outputs": [],
   "source": [
    "data_path = './input/'\n",
    "n_samples = 30000"
   ]
  },
  {
   "cell_type": "code",
   "execution_count": 3,
   "metadata": {
    "collapsed": true
   },
   "outputs": [],
   "source": [
    "dt = pd.read_csv(data_path + 'sample_runs_11102016.csv')"
   ]
  },
  {
   "cell_type": "code",
   "execution_count": 4,
   "metadata": {
    "collapsed": false
   },
   "outputs": [
    {
     "name": "stdout",
     "output_type": "stream",
     "text": [
      "2016-10-19\n"
     ]
    }
   ],
   "source": [
    "import datetime\n",
    "print datetime.date.today()\n",
    "\n",
    "\n",
    "dt[\"date_of_run\"]=dt[\"start_time\"].apply(lambda date: date.split(' ')[0])\n",
    "dt[\"time_of_run\"]=dt[\"start_time\"].apply(lambda date: date.split(' ')[1].split('-')[0])\n",
    "# df['State'] = df.area.apply(lambda x: x.split(',')[1] if len(x.split(','))>1 else '')\n",
    "\n",
    "# dt[\"time_of_run\"]=df['phone_brand'].apply(lambda phone_brand: top_10_brands_en[phone_brand] \n",
    "#                                                     if (phone_brand in top_10_brands_en) else 'Other')"
   ]
  },
  {
   "cell_type": "code",
   "execution_count": 26,
   "metadata": {
    "collapsed": false
   },
   "outputs": [],
   "source": [
    "dt[\"timestamp\"] = dt[\"date_of_run\"]+' '+dt[\"time_of_run\"]"
   ]
  },
  {
   "cell_type": "code",
   "execution_count": 32,
   "metadata": {
    "collapsed": false
   },
   "outputs": [],
   "source": [
    "data_path = './input/'\n",
    "gen_age_tr = pd.read_csv(data_path + 'gender_age_train.csv')\n",
    "\n",
    "dt = pd.read_csv(data_path + 'sample_runs_11102016.csv')\n",
    "dt[\"date_of_run\"]=dt[\"start_time\"].apply(lambda date: date.split(' ')[0])\n",
    "dt[\"time_of_run\"]=dt[\"start_time\"].apply(lambda date: date.split(' ')[1].split('-')[0])\n",
    "dt[\"timestamp\"] = dt[\"date_of_run\"]+' '+dt[\"time_of_run\"]\n",
    "\n",
    "ev = pd.read_csv(data_path + 'events.csv')\n",
    "ph_br_dev_model = pd.read_csv(data_path + 'phone_brand_device_model.csv')\n",
    "\n",
    "df = gen_age_tr.merge(ev, how='left', on='device_id')\n",
    "df = df.merge(ph_br_dev_model, how='left', on='device_id')\n",
    "\n",
    "    #Get n_samples records"
   ]
  },
  {
   "cell_type": "code",
   "execution_count": 35,
   "metadata": {
    "collapsed": false
   },
   "outputs": [
    {
     "data": {
      "text/html": [
       "<div>\n",
       "<table border=\"1\" class=\"dataframe\">\n",
       "  <thead>\n",
       "    <tr style=\"text-align: right;\">\n",
       "      <th></th>\n",
       "      <th>device_id</th>\n",
       "      <th>gender</th>\n",
       "      <th>age</th>\n",
       "      <th>group</th>\n",
       "    </tr>\n",
       "  </thead>\n",
       "  <tbody>\n",
       "    <tr>\n",
       "      <th>0</th>\n",
       "      <td>-8076087639492063270</td>\n",
       "      <td>M</td>\n",
       "      <td>35</td>\n",
       "      <td>M32-38</td>\n",
       "    </tr>\n",
       "    <tr>\n",
       "      <th>1</th>\n",
       "      <td>-2897161552818060146</td>\n",
       "      <td>M</td>\n",
       "      <td>35</td>\n",
       "      <td>M32-38</td>\n",
       "    </tr>\n",
       "    <tr>\n",
       "      <th>2</th>\n",
       "      <td>-8260683887967679142</td>\n",
       "      <td>M</td>\n",
       "      <td>35</td>\n",
       "      <td>M32-38</td>\n",
       "    </tr>\n",
       "    <tr>\n",
       "      <th>3</th>\n",
       "      <td>-4938849341048082022</td>\n",
       "      <td>M</td>\n",
       "      <td>30</td>\n",
       "      <td>M29-31</td>\n",
       "    </tr>\n",
       "    <tr>\n",
       "      <th>4</th>\n",
       "      <td>245133531816851882</td>\n",
       "      <td>M</td>\n",
       "      <td>30</td>\n",
       "      <td>M29-31</td>\n",
       "    </tr>\n",
       "  </tbody>\n",
       "</table>\n",
       "</div>"
      ],
      "text/plain": [
       "             device_id gender  age   group\n",
       "0 -8076087639492063270      M   35  M32-38\n",
       "1 -2897161552818060146      M   35  M32-38\n",
       "2 -8260683887967679142      M   35  M32-38\n",
       "3 -4938849341048082022      M   30  M29-31\n",
       "4   245133531816851882      M   30  M29-31"
      ]
     },
     "execution_count": 35,
     "metadata": {},
     "output_type": "execute_result"
    }
   ],
   "source": [
    "df = df.merge(dt, how='left', on='timestamp')\n",
    "df.head()\n",
    "gen_age_tr.head()"
   ]
  },
  {
   "cell_type": "code",
   "execution_count": null,
   "metadata": {
    "collapsed": true
   },
   "outputs": [],
   "source": []
  },
  {
   "cell_type": "code",
   "execution_count": 11,
   "metadata": {
    "collapsed": false
   },
   "outputs": [],
   "source": [
    "dt_clean = dt[\"date_of_run\"]\n",
    "\n",
    "dt_clean.to_json(orient='records')\n",
    "[\"2\",\"2\",\"1\",\"0\",\"3\",\"3\",\"3\",\"3\"]\n",
    "cols_to_keeps = ['date_of_run', 'time_of_run']\n",
    "dt_clean = dt[cols_to_keeps].dropna()\n",
    "records = dt_clean.to_json(orient='records')"
   ]
  },
  {
   "cell_type": "code",
   "execution_count": null,
   "metadata": {
    "collapsed": true
   },
   "outputs": [],
   "source": []
  },
  {
   "cell_type": "code",
   "execution_count": 17,
   "metadata": {
    "collapsed": false
   },
   "outputs": [],
   "source": [
    "def get_age_segment(age):\n",
    "    if age <= 22:\n",
    "        return '22-'\n",
    "    elif age <= 26:\n",
    "        return '23-26'\n",
    "    elif age <= 28:\n",
    "        return '27-28'\n",
    "    elif age <= 32:\n",
    "        return '29-32'\n",
    "    elif age <= 38:\n",
    "        return '33-38'\n",
    "    else:\n",
    "        return '39+'\n",
    "\n",
    "def get_location(longitude, latitude, provinces_json):\n",
    "    \n",
    "    point = Point(longitude, latitude)\n",
    "\n",
    "    for record in provinces_json['features']:\n",
    "        polygon = shape(record['geometry'])\n",
    "        if polygon.contains(point):\n",
    "            return record['properties']['name']\n",
    "    return 'other'\n",
    "\n",
    "data_path = './input/'\n",
    "with open(data_path + '/geojson/china_provinces_en.json') as data_file:    \n",
    "    provinces_json = json.load(data_file)\n",
    "    \n",
    "data_path = './input/dataaa/'\n",
    "gen_age_tr = pd.read_csv(data_path + 'gender_age_train.csv')\n",
    "ev = pd.read_csv(data_path + 'events.csv')\n",
    "ph_br_dev_model = pd.read_csv(data_path + 'phone_brand_device_model.csv')\n",
    "\n",
    "df = gen_age_tr.merge(ev, how='left', on='device_id')\n",
    "df = df.merge(ph_br_dev_model, how='left', on='device_id')\n",
    "    #Get n_samples records\n",
    "df = df[df['longitude'] != 0].sample(n=n_samples)\n",
    "\n",
    "\n",
    "top_10_brands_en = {'华为':'Huawei', '小米':'Xiaomi', '三星':'Samsung', 'vivo':'vivo', 'OPPO':'OPPO',\n",
    "                        '魅族':'Meizu', '酷派':'Coolpad', '乐视':'LeEco', '联想':'Lenovo', 'HTC':'HTC'}\n",
    "\n",
    "df['phone_brand_en'] = df['phone_brand'].apply(lambda phone_brand: top_10_brands_en[phone_brand] \n",
    "                                                    if (phone_brand in top_10_brands_en) else 'Other')\n",
    "\n",
    "df['age_segment'] = df['age'].apply(lambda age: get_age_segment(age))\n",
    "\n",
    "df['location'] = df.apply(lambda row: get_location(row['longitude'], row['latitude'], provinces_json), axis=1)\n",
    "\n",
    "cols_to_keep = ['timestamp', 'longitude', 'latitude', 'phone_brand_en', 'gender', 'age_segment', 'location']\n",
    "df_clean = df[cols_to_keep].dropna()\n"
   ]
  },
  {
   "cell_type": "code",
   "execution_count": 18,
   "metadata": {
    "collapsed": true
   },
   "outputs": [],
   "source": [
    "re = df_clean.to_json(orient='records')"
   ]
  },
  {
   "cell_type": "code",
   "execution_count": 22,
   "metadata": {
    "collapsed": false
   },
   "outputs": [],
   "source": [
    "# '[{\"timestamp\":\"2016-05-06 15:40:12\",\"longitude\":124.02,\"latitude\":45.0,\"phone_brand_en\":\"OPPO\",\"gender\":\"F\",\"age_segment\":\"22-\",\"location\":\"Jilin\"},{\"timestamp\":\"2016-05-05 21:47:04\",\"longitude\":115.26,\"latitude\":33.05,\"phone_brand_en\":\"vivo\",\"gender\":\"M\",\"age_segment\":\"27-28\",\"location\":\"Anhui\"},\n",
    "# '[{\"date_of_run\":\"2016-07-29\",\"time_of_run\":\"07:01:37\"},{\"date_of_run\":\"2016-07-31\",\"time_of_run\":\"07:56:05\"}\n",
    "#records"
   ]
  },
  {
   "cell_type": "code",
   "execution_count": 80,
   "metadata": {
    "collapsed": false
   },
   "outputs": [
    {
     "data": {
      "text/html": [
       "<div>\n",
       "<table border=\"1\" class=\"dataframe\">\n",
       "  <thead>\n",
       "    <tr style=\"text-align: right;\">\n",
       "      <th></th>\n",
       "      <th>run_id</th>\n",
       "      <th>start_time</th>\n",
       "      <th>avg_speed</th>\n",
       "      <th>distance</th>\n",
       "      <th>user_id_id</th>\n",
       "      <th>run_amount</th>\n",
       "      <th>run_duration</th>\n",
       "      <th>no_of_steps</th>\n",
       "      <th>user_id</th>\n",
       "      <th>first_name</th>\n",
       "      <th>last_name</th>\n",
       "      <th>gender_user</th>\n",
       "      <th>date_joined</th>\n",
       "      <th>cause_id</th>\n",
       "      <th>cause_title</th>\n",
       "    </tr>\n",
       "  </thead>\n",
       "  <tbody>\n",
       "    <tr>\n",
       "      <th>0</th>\n",
       "      <td>1284</td>\n",
       "      <td>2016-07-29 07:01:37-04</td>\n",
       "      <td>1.483692</td>\n",
       "      <td>1.985234</td>\n",
       "      <td>81</td>\n",
       "      <td>20</td>\n",
       "      <td>00:23:00</td>\n",
       "      <td>61001</td>\n",
       "      <td>81</td>\n",
       "      <td>Manoj</td>\n",
       "      <td>Khandelwal</td>\n",
       "      <td>m</td>\n",
       "      <td>2016-07-08 03:30:30.476094-04</td>\n",
       "      <td>4</td>\n",
       "      <td>For Our Farmers</td>\n",
       "    </tr>\n",
       "    <tr>\n",
       "      <th>1</th>\n",
       "      <td>1302</td>\n",
       "      <td>2016-07-31 07:56:05-04</td>\n",
       "      <td>0.524181</td>\n",
       "      <td>2.371040</td>\n",
       "      <td>191</td>\n",
       "      <td>25</td>\n",
       "      <td>01:16:11</td>\n",
       "      <td>184565</td>\n",
       "      <td>191</td>\n",
       "      <td>suyesh</td>\n",
       "      <td>dolas</td>\n",
       "      <td>male</td>\n",
       "      <td>2016-07-31 06:16:27.847882-04</td>\n",
       "      <td>4</td>\n",
       "      <td>For Our Farmers</td>\n",
       "    </tr>\n",
       "    <tr>\n",
       "      <th>2</th>\n",
       "      <td>1319</td>\n",
       "      <td>2016-08-01 01:44:41-04</td>\n",
       "      <td>0.037516</td>\n",
       "      <td>5.402810</td>\n",
       "      <td>36</td>\n",
       "      <td>54</td>\n",
       "      <td>4 days 13:17:34</td>\n",
       "      <td>33010</td>\n",
       "      <td>36</td>\n",
       "      <td>Prashant</td>\n",
       "      <td>Gudibanda</td>\n",
       "      <td>m</td>\n",
       "      <td>2016-06-13 08:29:29.517684-04</td>\n",
       "      <td>6</td>\n",
       "      <td>Defeating Cancer Together</td>\n",
       "    </tr>\n",
       "    <tr>\n",
       "      <th>3</th>\n",
       "      <td>1335</td>\n",
       "      <td>2016-07-28 05:45:51-04</td>\n",
       "      <td>1.035493</td>\n",
       "      <td>2.729146</td>\n",
       "      <td>104</td>\n",
       "      <td>28</td>\n",
       "      <td>00:44:00</td>\n",
       "      <td>190329</td>\n",
       "      <td>104</td>\n",
       "      <td>Shubham</td>\n",
       "      <td>Saraogi</td>\n",
       "      <td>m</td>\n",
       "      <td>2016-07-15 05:07:15.496121-04</td>\n",
       "      <td>7</td>\n",
       "      <td>Uttarkashi School</td>\n",
       "    </tr>\n",
       "    <tr>\n",
       "      <th>4</th>\n",
       "      <td>1350</td>\n",
       "      <td>2016-08-02 06:22:10-04</td>\n",
       "      <td>6.097581</td>\n",
       "      <td>0.118226</td>\n",
       "      <td>184</td>\n",
       "      <td>3</td>\n",
       "      <td>00:00:44</td>\n",
       "      <td>0</td>\n",
       "      <td>184</td>\n",
       "      <td>Ritesh</td>\n",
       "      <td>Soni</td>\n",
       "      <td>m</td>\n",
       "      <td>2016-07-31 05:45:55.031873-04</td>\n",
       "      <td>6</td>\n",
       "      <td>Defeating Cancer Together</td>\n",
       "    </tr>\n",
       "  </tbody>\n",
       "</table>\n",
       "</div>"
      ],
      "text/plain": [
       "   run_id              start_time  avg_speed  distance  user_id_id run_amount  \\\n",
       "0    1284  2016-07-29 07:01:37-04   1.483692  1.985234          81         20   \n",
       "1    1302  2016-07-31 07:56:05-04   0.524181  2.371040         191         25   \n",
       "2    1319  2016-08-01 01:44:41-04   0.037516  5.402810          36         54   \n",
       "3    1335  2016-07-28 05:45:51-04   1.035493  2.729146         104         28   \n",
       "4    1350  2016-08-02 06:22:10-04   6.097581  0.118226         184          3   \n",
       "\n",
       "      run_duration  no_of_steps  user_id first_name   last_name gender_user  \\\n",
       "0         00:23:00        61001       81      Manoj  Khandelwal           m   \n",
       "1         01:16:11       184565      191     suyesh       dolas        male   \n",
       "2  4 days 13:17:34        33010       36   Prashant   Gudibanda           m   \n",
       "3         00:44:00       190329      104    Shubham     Saraogi           m   \n",
       "4         00:00:44            0      184     Ritesh        Soni           m   \n",
       "\n",
       "                     date_joined  cause_id                cause_title  \n",
       "0  2016-07-08 03:30:30.476094-04         4            For Our Farmers  \n",
       "1  2016-07-31 06:16:27.847882-04         4            For Our Farmers  \n",
       "2  2016-06-13 08:29:29.517684-04         6  Defeating Cancer Together  \n",
       "3  2016-07-15 05:07:15.496121-04         7          Uttarkashi School  \n",
       "4  2016-07-31 05:45:55.031873-04         6  Defeating Cancer Together  "
      ]
     },
     "execution_count": 80,
     "metadata": {},
     "output_type": "execute_result"
    }
   ],
   "source": [
    "import pandas as pd\n",
    "data_path = './input/'\n",
    "dt = pd.read_csv(data_path + 'sample_runs_11102016.csv')\n",
    "dt.head()"
   ]
  },
  {
   "cell_type": "code",
   "execution_count": 37,
   "metadata": {
    "collapsed": false
   },
   "outputs": [],
   "source": [
    "import pandas as pd\n",
    "data_path = './input/'\n",
    "dt = pd.read_csv(data_path + 'sample_runs_11102016.csv')\n",
    "dt[\"date_of_run\"]=dt[\"start_time\"].apply(lambda date: date.split(' ')[0])\n",
    "dt[\"time_of_run\"]=dt[\"start_time\"].apply(lambda date: date.split(' ')[1].split('-')[0])\n",
    "dt[\"timestamp\"] = dt[\"date_of_run\"]+' '+dt[\"time_of_run\"]\n",
    "dt[\"date_of_joining\"] = dt[\"date_joined\"].apply(lambda date: date.split(' ')[0])\n",
    "dt['runners'] = dt.groupby('date_of_run')['date_of_run'].transform('count')\n",
    "dh = dt.groupby(['date_of_run']).apply(lambda s:len(s['user_id'].unique()))\n",
    "f = pd.DataFrame({'date_of_run':dh.index, 'uniq_runners':dh.values})\n",
    "dt = dt.merge(f, how='left', on='date_of_run')\n",
    "dt[\"userid\"] = dt[\"user_id\"]"
   ]
  },
  {
   "cell_type": "code",
   "execution_count": 42,
   "metadata": {
    "collapsed": false
   },
   "outputs": [],
   "source": [
    "import numpy as np\n",
    "dh = dt.groupby(['date_of_run']).apply(lambda s:s['user_id'].unique())\n",
    "f = pd.DataFrame({'date_of_run':dh.index, 'uniq_runners':dh.values})\n",
    "f\n",
    "# dh = np.unique(dt.groupby('date_of_run')['user_id'])\n",
    "dh = dt[[\"date_of_run\",\"user_id\"]]\n",
    "d =dh.drop_duplicates\n",
    "fg = dt.groupby([\"date_of_run\",\"user_id\"]).size().reset_index().rename(columns={0:'count'})\n"
   ]
  },
  {
   "cell_type": "code",
   "execution_count": 60,
   "metadata": {
    "collapsed": true
   },
   "outputs": [],
   "source": [
    "dt = pd.read_csv(data_path + 'sample_runs_11102016.csv')\n",
    "dt[\"date_of_run\"]=dt[\"start_time\"].apply(lambda date: date.split(' ')[0])\n",
    "dt[\"time_of_run\"]=dt[\"start_time\"].apply(lambda date: date.split(' ')[1].split('-')[0])\n",
    "dt[\"timestamp\"] = dt[\"date_of_run\"]+' '+dt[\"time_of_run\"]    \n",
    "dw = dt.groupby([\"date_of_run\",\"user_id\"]).size().reset_index().rename(columns={0:'count'})"
   ]
  },
  {
   "cell_type": "code",
   "execution_count": 84,
   "metadata": {
    "collapsed": false
   },
   "outputs": [
    {
     "data": {
      "text/html": [
       "<div>\n",
       "<table border=\"1\" class=\"dataframe\">\n",
       "  <thead>\n",
       "    <tr style=\"text-align: right;\">\n",
       "      <th></th>\n",
       "      <th>run_id</th>\n",
       "      <th>start_time</th>\n",
       "      <th>avg_speed</th>\n",
       "      <th>distance</th>\n",
       "      <th>user_id_id</th>\n",
       "      <th>run_amount</th>\n",
       "      <th>run_duration</th>\n",
       "      <th>no_of_steps</th>\n",
       "      <th>user_id</th>\n",
       "      <th>first_name</th>\n",
       "      <th>last_name</th>\n",
       "      <th>gender_user</th>\n",
       "      <th>date_joined</th>\n",
       "      <th>cause_id</th>\n",
       "      <th>cause_title</th>\n",
       "      <th>date_of_joining</th>\n",
       "    </tr>\n",
       "  </thead>\n",
       "  <tbody>\n",
       "    <tr>\n",
       "      <th>0</th>\n",
       "      <td>1284</td>\n",
       "      <td>2016-07-29 07:01:37-04</td>\n",
       "      <td>1.483692</td>\n",
       "      <td>1.985234</td>\n",
       "      <td>81</td>\n",
       "      <td>20</td>\n",
       "      <td>00:23:00</td>\n",
       "      <td>61001</td>\n",
       "      <td>81</td>\n",
       "      <td>Manoj</td>\n",
       "      <td>Khandelwal</td>\n",
       "      <td>m</td>\n",
       "      <td>2016-07-08 03:30:30.476094-04</td>\n",
       "      <td>4</td>\n",
       "      <td>For Our Farmers</td>\n",
       "      <td>2016-07-08</td>\n",
       "    </tr>\n",
       "    <tr>\n",
       "      <th>1</th>\n",
       "      <td>1302</td>\n",
       "      <td>2016-07-31 07:56:05-04</td>\n",
       "      <td>0.524181</td>\n",
       "      <td>2.371040</td>\n",
       "      <td>191</td>\n",
       "      <td>25</td>\n",
       "      <td>01:16:11</td>\n",
       "      <td>184565</td>\n",
       "      <td>191</td>\n",
       "      <td>suyesh</td>\n",
       "      <td>dolas</td>\n",
       "      <td>male</td>\n",
       "      <td>2016-07-31 06:16:27.847882-04</td>\n",
       "      <td>4</td>\n",
       "      <td>For Our Farmers</td>\n",
       "      <td>2016-07-31</td>\n",
       "    </tr>\n",
       "    <tr>\n",
       "      <th>2</th>\n",
       "      <td>1319</td>\n",
       "      <td>2016-08-01 01:44:41-04</td>\n",
       "      <td>0.037516</td>\n",
       "      <td>5.402810</td>\n",
       "      <td>36</td>\n",
       "      <td>54</td>\n",
       "      <td>4 days 13:17:34</td>\n",
       "      <td>33010</td>\n",
       "      <td>36</td>\n",
       "      <td>Prashant</td>\n",
       "      <td>Gudibanda</td>\n",
       "      <td>m</td>\n",
       "      <td>2016-06-13 08:29:29.517684-04</td>\n",
       "      <td>6</td>\n",
       "      <td>Defeating Cancer Together</td>\n",
       "      <td>2016-06-13</td>\n",
       "    </tr>\n",
       "    <tr>\n",
       "      <th>3</th>\n",
       "      <td>1335</td>\n",
       "      <td>2016-07-28 05:45:51-04</td>\n",
       "      <td>1.035493</td>\n",
       "      <td>2.729146</td>\n",
       "      <td>104</td>\n",
       "      <td>28</td>\n",
       "      <td>00:44:00</td>\n",
       "      <td>190329</td>\n",
       "      <td>104</td>\n",
       "      <td>Shubham</td>\n",
       "      <td>Saraogi</td>\n",
       "      <td>m</td>\n",
       "      <td>2016-07-15 05:07:15.496121-04</td>\n",
       "      <td>7</td>\n",
       "      <td>Uttarkashi School</td>\n",
       "      <td>2016-07-15</td>\n",
       "    </tr>\n",
       "    <tr>\n",
       "      <th>4</th>\n",
       "      <td>1350</td>\n",
       "      <td>2016-08-02 06:22:10-04</td>\n",
       "      <td>6.097581</td>\n",
       "      <td>0.118226</td>\n",
       "      <td>184</td>\n",
       "      <td>3</td>\n",
       "      <td>00:00:44</td>\n",
       "      <td>0</td>\n",
       "      <td>184</td>\n",
       "      <td>Ritesh</td>\n",
       "      <td>Soni</td>\n",
       "      <td>m</td>\n",
       "      <td>2016-07-31 05:45:55.031873-04</td>\n",
       "      <td>6</td>\n",
       "      <td>Defeating Cancer Together</td>\n",
       "      <td>2016-07-31</td>\n",
       "    </tr>\n",
       "  </tbody>\n",
       "</table>\n",
       "</div>"
      ],
      "text/plain": [
       "   run_id              start_time  avg_speed  distance  user_id_id run_amount  \\\n",
       "0    1284  2016-07-29 07:01:37-04   1.483692  1.985234          81         20   \n",
       "1    1302  2016-07-31 07:56:05-04   0.524181  2.371040         191         25   \n",
       "2    1319  2016-08-01 01:44:41-04   0.037516  5.402810          36         54   \n",
       "3    1335  2016-07-28 05:45:51-04   1.035493  2.729146         104         28   \n",
       "4    1350  2016-08-02 06:22:10-04   6.097581  0.118226         184          3   \n",
       "\n",
       "      run_duration  no_of_steps  user_id first_name   last_name gender_user  \\\n",
       "0         00:23:00        61001       81      Manoj  Khandelwal           m   \n",
       "1         01:16:11       184565      191     suyesh       dolas        male   \n",
       "2  4 days 13:17:34        33010       36   Prashant   Gudibanda           m   \n",
       "3         00:44:00       190329      104    Shubham     Saraogi           m   \n",
       "4         00:00:44            0      184     Ritesh        Soni           m   \n",
       "\n",
       "                     date_joined  cause_id                cause_title  \\\n",
       "0  2016-07-08 03:30:30.476094-04         4            For Our Farmers   \n",
       "1  2016-07-31 06:16:27.847882-04         4            For Our Farmers   \n",
       "2  2016-06-13 08:29:29.517684-04         6  Defeating Cancer Together   \n",
       "3  2016-07-15 05:07:15.496121-04         7          Uttarkashi School   \n",
       "4  2016-07-31 05:45:55.031873-04         6  Defeating Cancer Together   \n",
       "\n",
       "  date_of_joining  \n",
       "0      2016-07-08  \n",
       "1      2016-07-31  \n",
       "2      2016-06-13  \n",
       "3      2016-07-15  \n",
       "4      2016-07-31  "
      ]
     },
     "execution_count": 84,
     "metadata": {},
     "output_type": "execute_result"
    }
   ],
   "source": [
    "import pandas as pd\n",
    "data_path = './input/'\n",
    "dt = pd.read_csv(data_path + 'sample_runs_11102016.csv')\n",
    "dt[\"date_of_joining\"] = dt[\"date_joined\"].apply(lambda date: date.split(' ')[0])\n",
    "d =dt.drop_duplicates([\"date_of_joining\",\"user_id\"])\n",
    "d.head()\n"
   ]
  },
  {
   "cell_type": "code",
   "execution_count": 64,
   "metadata": {
    "collapsed": true
   },
   "outputs": [],
   "source": [
    "df = dt.merge(dw, how='left', on=\"date_of_run\")"
   ]
  },
  {
   "cell_type": "code",
   "execution_count": 65,
   "metadata": {
    "collapsed": false
   },
   "outputs": [
    {
     "data": {
      "text/plain": [
       "2315"
      ]
     },
     "execution_count": 65,
     "metadata": {},
     "output_type": "execute_result"
    }
   ],
   "source": [
    "len(dt.dropna())"
   ]
  },
  {
   "cell_type": "code",
   "execution_count": 69,
   "metadata": {
    "collapsed": false
   },
   "outputs": [
    {
     "data": {
      "text/plain": [
       "1537"
      ]
     },
     "execution_count": 69,
     "metadata": {},
     "output_type": "execute_result"
    }
   ],
   "source": [
    "dt = pd.read_csv(data_path + 'sample_runs_11102016.csv')\n",
    "dt[\"date_of_run\"]=dt[\"start_time\"].apply(lambda date: date.split(' ')[0])\n",
    "dt[\"time_of_run\"]=dt[\"start_time\"].apply(lambda date: date.split(' ')[1].split('-')[0])\n",
    "dt[\"timestamp\"] = dt[\"date_of_run\"]+' '+dt[\"time_of_run\"]    \n",
    " \n",
    "cols_to_keep = ['timestamp','user_id']\n",
    "dt_clean = dt[cols_to_keep].dropna()\n",
    "len(dt_clean)"
   ]
  },
  {
   "cell_type": "code",
   "execution_count": 81,
   "metadata": {
    "collapsed": false
   },
   "outputs": [
    {
     "data": {
      "text/html": [
       "<div>\n",
       "<table border=\"1\" class=\"dataframe\">\n",
       "  <thead>\n",
       "    <tr style=\"text-align: right;\">\n",
       "      <th></th>\n",
       "      <th>timestamp</th>\n",
       "      <th>user_id</th>\n",
       "    </tr>\n",
       "  </thead>\n",
       "  <tbody>\n",
       "    <tr>\n",
       "      <th>0</th>\n",
       "      <td>2016-07-29 07:01:37</td>\n",
       "      <td>81</td>\n",
       "    </tr>\n",
       "    <tr>\n",
       "      <th>1</th>\n",
       "      <td>2016-07-31 07:56:05</td>\n",
       "      <td>191</td>\n",
       "    </tr>\n",
       "    <tr>\n",
       "      <th>2</th>\n",
       "      <td>2016-08-01 01:44:41</td>\n",
       "      <td>36</td>\n",
       "    </tr>\n",
       "    <tr>\n",
       "      <th>3</th>\n",
       "      <td>2016-07-28 05:45:51</td>\n",
       "      <td>104</td>\n",
       "    </tr>\n",
       "    <tr>\n",
       "      <th>4</th>\n",
       "      <td>2016-08-02 06:22:10</td>\n",
       "      <td>184</td>\n",
       "    </tr>\n",
       "  </tbody>\n",
       "</table>\n",
       "</div>"
      ],
      "text/plain": [
       "             timestamp  user_id\n",
       "0  2016-07-29 07:01:37       81\n",
       "1  2016-07-31 07:56:05      191\n",
       "2  2016-08-01 01:44:41       36\n",
       "3  2016-07-28 05:45:51      104\n",
       "4  2016-08-02 06:22:10      184"
      ]
     },
     "execution_count": 81,
     "metadata": {},
     "output_type": "execute_result"
    }
   ],
   "source": [
    "dt_clean.head()"
   ]
  },
  {
   "cell_type": "code",
   "execution_count": 78,
   "metadata": {
    "collapsed": false
   },
   "outputs": [],
   "source": [
    "dt = pd.read_csv(data_path + 'sample_runs_11102016.csv')\n",
    "dt[\"date_of_run\"]=dt[\"start_time\"].apply(lambda date: date.split(' ')[0])\n",
    "dt[\"time_of_run\"]=dt[\"start_time\"].apply(lambda date: date.split(' ')[1].split('-')[0])\n",
    "dt[\"timestamp\"] = dt[\"date_of_run\"]+' '+dt[\"time_of_run\"] \n",
    "for i in xrange(0,len(dt[\"user_id\"])):\n",
    "    dt[\"user_id\"][i]"
   ]
  },
  {
   "cell_type": "code",
   "execution_count": null,
   "metadata": {
    "collapsed": true
   },
   "outputs": [],
   "source": []
  }
 ],
 "metadata": {
  "kernelspec": {
   "display_name": "Python 2",
   "language": "python",
   "name": "python2"
  },
  "language_info": {
   "codemirror_mode": {
    "name": "ipython",
    "version": 2
   },
   "file_extension": ".py",
   "mimetype": "text/x-python",
   "name": "python",
   "nbconvert_exporter": "python",
   "pygments_lexer": "ipython2",
   "version": "2.7.6"
  }
 },
 "nbformat": 4,
 "nbformat_minor": 0
}
